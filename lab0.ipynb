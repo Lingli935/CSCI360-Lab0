{
 "cells": [
  {
   "cell_type": "code",
   "execution_count": 1,
   "id": "1ca0105f-14e8-4eee-a0ca-8102b56c48cd",
   "metadata": {},
   "outputs": [
    {
     "data": {
      "text/plain": [
       "['Federer', 'Nadal', 'Felix']"
      ]
     },
     "execution_count": 1,
     "metadata": {},
     "output_type": "execute_result"
    }
   ],
   "source": [
    "player = ['Federer', 'Nadal', 'Felix']\n",
    "player"
   ]
  },
  {
   "cell_type": "code",
   "execution_count": 2,
   "id": "a7bcc124-ee67-4dcb-bb26-89b4c017e344",
   "metadata": {},
   "outputs": [],
   "source": [
    "player.append('Djokovic')\n"
   ]
  },
  {
   "cell_type": "code",
   "execution_count": 3,
   "id": "168defbf-1c72-4135-8406-7be7b5e8e3d4",
   "metadata": {},
   "outputs": [
    {
     "data": {
      "text/plain": [
       "['Federer', 'Nadal', 'Felix', 'Djokovic']"
      ]
     },
     "execution_count": 3,
     "metadata": {},
     "output_type": "execute_result"
    }
   ],
   "source": [
    "player\n"
   ]
  },
  {
   "cell_type": "code",
   "execution_count": 4,
   "id": "3923a8b8-1b28-4ca5-82ac-124714421ff1",
   "metadata": {},
   "outputs": [
    {
     "data": {
      "text/plain": [
       "['Federer', 'Nadal', 'Felix', 'Djokovic', 'Medvedev', 'Sinner']"
      ]
     },
     "execution_count": 4,
     "metadata": {},
     "output_type": "execute_result"
    }
   ],
   "source": [
    "player.append('Medvedev')\n",
    "player.append('Sinner')\n",
    "player"
   ]
  },
  {
   "cell_type": "code",
   "execution_count": 5,
   "id": "b7fbfed4-369a-457e-8890-9b1dee773323",
   "metadata": {},
   "outputs": [],
   "source": [
    "new_players = ['Tsitsipas', 'Rublev', 'Dimitrov']"
   ]
  },
  {
   "cell_type": "code",
   "execution_count": 6,
   "id": "b588cb5a-b9bd-4d35-bbaf-75c928215649",
   "metadata": {},
   "outputs": [
    {
     "data": {
      "text/plain": [
       "['Federer',\n",
       " 'Nadal',\n",
       " 'Felix',\n",
       " 'Djokovic',\n",
       " 'Medvedev',\n",
       " 'Sinner',\n",
       " 'Tsitsipas',\n",
       " 'Rublev',\n",
       " 'Dimitrov']"
      ]
     },
     "execution_count": 6,
     "metadata": {},
     "output_type": "execute_result"
    }
   ],
   "source": [
    "player.extend(new_players)\n",
    "player"
   ]
  },
  {
   "cell_type": "code",
   "execution_count": 7,
   "id": "80f52021-7602-4d7e-84d3-aa28d7639b7b",
   "metadata": {},
   "outputs": [
    {
     "data": {
      "text/plain": [
       "['Federer',\n",
       " 'Nadal',\n",
       " 'Felix',\n",
       " 'Djokovic',\n",
       " 'Sinner',\n",
       " 'Tsitsipas',\n",
       " 'Rublev',\n",
       " 'Dimitrov']"
      ]
     },
     "execution_count": 7,
     "metadata": {},
     "output_type": "execute_result"
    }
   ],
   "source": [
    "player.remove('Medvedev')\n",
    "player"
   ]
  },
  {
   "cell_type": "code",
   "execution_count": 8,
   "id": "74be6d0d-fa0d-4609-9356-c5aba6adef02",
   "metadata": {},
   "outputs": [
    {
     "data": {
      "text/plain": [
       "'Dimitrov'"
      ]
     },
     "execution_count": 8,
     "metadata": {},
     "output_type": "execute_result"
    }
   ],
   "source": [
    "player[-1]"
   ]
  },
  {
   "cell_type": "code",
   "execution_count": 9,
   "id": "e003728c-36da-4630-bd7a-554e6c4da2ec",
   "metadata": {},
   "outputs": [
    {
     "data": {
      "text/plain": [
       "['Tsitsipas', 'Rublev', 'Dimitrov']"
      ]
     },
     "execution_count": 9,
     "metadata": {},
     "output_type": "execute_result"
    }
   ],
   "source": [
    "new_list = player[-3:]\n",
    "new_list"
   ]
  },
  {
   "cell_type": "code",
   "execution_count": 10,
   "id": "0d2807f6-7d04-4506-9914-1b0b7c5da4c9",
   "metadata": {},
   "outputs": [
    {
     "data": {
      "text/plain": [
       "['Nadal', 'Djokovic', 'Tsitsipas']"
      ]
     },
     "execution_count": 10,
     "metadata": {},
     "output_type": "execute_result"
    }
   ],
   "source": [
    "player[1:7:2]"
   ]
  },
  {
   "cell_type": "code",
   "execution_count": 11,
   "id": "64ca8c5a-25d9-4c62-8635-50971c58c40f",
   "metadata": {},
   "outputs": [
    {
     "data": {
      "text/plain": [
       "[2601,\n",
       " 2809,\n",
       " 3025,\n",
       " 3249,\n",
       " 3481,\n",
       " 3721,\n",
       " 3969,\n",
       " 4225,\n",
       " 4489,\n",
       " 4761,\n",
       " 5041,\n",
       " 5329,\n",
       " 5625,\n",
       " 5929,\n",
       " 6241,\n",
       " 6561,\n",
       " 6889,\n",
       " 7225,\n",
       " 7569,\n",
       " 7921,\n",
       " 8281,\n",
       " 8649,\n",
       " 9025,\n",
       " 9409,\n",
       " 9801]"
      ]
     },
     "execution_count": 11,
     "metadata": {},
     "output_type": "execute_result"
    }
   ],
   "source": [
    "squares_list = []\n",
    "\n",
    "for x  in range (101):\n",
    "     if (x%2 != 0 and x >= 50): \n",
    "       squares_list.append(x*x)\n",
    "\n",
    "squares_list"
   ]
  },
  {
   "cell_type": "code",
   "execution_count": null,
   "id": "665a83c8-78c0-48c5-9e3e-d3f3e3fe086a",
   "metadata": {},
   "outputs": [],
   "source": []
  },
  {
   "cell_type": "code",
   "execution_count": 12,
   "id": "f3464a49-a122-41b3-b4c8-8423303c4c07",
   "metadata": {},
   "outputs": [
    {
     "data": {
      "text/plain": [
       "['Federer', 'Felix', 'Sinner', 'Rublev']"
      ]
     },
     "execution_count": 12,
     "metadata": {},
     "output_type": "execute_result"
    }
   ],
   "source": [
    "filtered_players = [x for x in player  if 'e' in x]\n",
    "filtered_players"
   ]
  },
  {
   "cell_type": "code",
   "execution_count": 13,
   "id": "12a46e64-8ff7-4ede-8642-5c49f1553ebf",
   "metadata": {},
   "outputs": [
    {
     "data": {
      "text/plain": [
       "9801"
      ]
     },
     "execution_count": 13,
     "metadata": {},
     "output_type": "execute_result"
    }
   ],
   "source": [
    "max(squares_list)"
   ]
  },
  {
   "cell_type": "code",
   "execution_count": 14,
   "id": "e5d2a8dc-3de8-41e8-aad0-bcf26bea2153",
   "metadata": {},
   "outputs": [
    {
     "data": {
      "text/plain": [
       "2601"
      ]
     },
     "execution_count": 14,
     "metadata": {},
     "output_type": "execute_result"
    }
   ],
   "source": [
    "min(squares_list)"
   ]
  },
  {
   "cell_type": "code",
   "execution_count": 15,
   "id": "2c760e49-6485-4a82-b3de-04d06256b193",
   "metadata": {},
   "outputs": [
    {
     "data": {
      "text/plain": [
       "145825"
      ]
     },
     "execution_count": 15,
     "metadata": {},
     "output_type": "execute_result"
    }
   ],
   "source": [
    "sum(squares_list)"
   ]
  },
  {
   "cell_type": "code",
   "execution_count": 16,
   "id": "ca434882-8dec-40ed-b2b1-5d599b242410",
   "metadata": {},
   "outputs": [
    {
     "data": {
      "text/plain": [
       "25"
      ]
     },
     "execution_count": 16,
     "metadata": {},
     "output_type": "execute_result"
    }
   ],
   "source": [
    "len(squares_list)"
   ]
  },
  {
   "cell_type": "code",
   "execution_count": 17,
   "id": "fa9453e8-b302-40c7-bc53-0f9d94766b3b",
   "metadata": {},
   "outputs": [],
   "source": [
    "squares_list.sort()\n"
   ]
  },
  {
   "cell_type": "code",
   "execution_count": 18,
   "id": "016ad7b6-0030-4523-8aa7-94a9bfbe1bcb",
   "metadata": {},
   "outputs": [
    {
     "data": {
      "text/plain": [
       "[78, 59, 46, 40, 37, 32, 12, 2, 1]"
      ]
     },
     "execution_count": 18,
     "metadata": {},
     "output_type": "execute_result"
    }
   ],
   "source": [
    " numbers = [1, 37, 2, 59, 46, 32, 12, 40, 78]\n",
    " numbers.sort()\n",
    "numbers.reverse()\n",
    "numbers"
   ]
  },
  {
   "cell_type": "code",
   "execution_count": 19,
   "id": "7b31dc13-abdb-4728-ba29-8d34541d5e5a",
   "metadata": {},
   "outputs": [],
   "source": [
    "import statistics"
   ]
  },
  {
   "cell_type": "code",
   "execution_count": 20,
   "id": "b265048a-b0c8-4884-93fc-cf6b910f4786",
   "metadata": {},
   "outputs": [
    {
     "data": {
      "text/plain": [
       "34.111111111111114"
      ]
     },
     "execution_count": 20,
     "metadata": {},
     "output_type": "execute_result"
    }
   ],
   "source": [
    "statistics.mean(numbers)"
   ]
  },
  {
   "cell_type": "code",
   "execution_count": 21,
   "id": "95f372f1-01b4-493a-b51a-9dcbeed3f164",
   "metadata": {},
   "outputs": [
    {
     "data": {
      "text/plain": [
       "37"
      ]
     },
     "execution_count": 21,
     "metadata": {},
     "output_type": "execute_result"
    }
   ],
   "source": [
    "statistics.median(numbers)"
   ]
  },
  {
   "cell_type": "code",
   "execution_count": 22,
   "id": "724b92ed-e62a-4b74-854f-bd9ec1210e4b",
   "metadata": {},
   "outputs": [
    {
     "name": "stdout",
     "output_type": "stream",
     "text": [
      "deque([2, -1, 3, 4, -1, 5, 6, 7, -1, 8, 9, 10, -1, -1])\n"
     ]
    }
   ],
   "source": [
    "import queue\n",
    "from collections import deque\n",
    "\n",
    "num = [2, -1, 3, 4, -1, 5, 6, 7, -1, 8, 9, 10, -1 , -1]\n",
    "queue = deque(num)\n",
    "print(queue)\n"
   ]
  },
  {
   "cell_type": "code",
   "execution_count": 70,
   "id": "a1213952-319e-4881-a96a-e2072cbe6918",
   "metadata": {},
   "outputs": [
    {
     "name": "stdout",
     "output_type": "stream",
     "text": [
      "[[2], [3, 4], [5, 6, 7], [8, 9, 10]]\n"
     ]
    }
   ],
   "source": [
    "def reOrg(queue):\n",
    "    solution = []\n",
    "    temp = []\n",
    "\n",
    "    while queue:\n",
    "        num = queue.popleft()\n",
    "        if num > 0:\n",
    "            temp.append(num)\n",
    "        else:\n",
    "            if temp:\n",
    "                solution.append(temp)\n",
    "                temp = []\n",
    "    \n",
    "    if temp:\n",
    "        solution.append(temp)\n",
    "    \n",
    "    return solution\n",
    "\n",
    "queue = deque([2, -1, 3, 4, -1, 5, 6, 7, -1, 8, 9, 10, -1, -1])\n",
    "print(reOrg(queue))"
   ]
  },
  {
   "cell_type": "code",
   "execution_count": null,
   "id": "62e3f21e-5ce7-475b-9f9b-fd1680b7ab76",
   "metadata": {},
   "outputs": [],
   "source": [
    "# Sictionary exercise"
   ]
  },
  {
   "cell_type": "code",
   "execution_count": 87,
   "id": "1342ca60-7ff8-40a1-b4d6-97cd5dbd491a",
   "metadata": {},
   "outputs": [
    {
     "name": "stdout",
     "output_type": "stream",
     "text": [
      "{'1001': [95, 93, 81, 90, 100], '1002': [100, 95, 89, 87], '1003': [92, 91, None, 80, None]}\n",
      "{'1002': [100, 95, 89, 87], '1003': [92, 91, None, 80, None]}\n"
     ]
    }
   ],
   "source": [
    "score = {\n",
    "    \"1001\":[95,93,81,90,100],\n",
    "    \"1002\":[100,95,89,87],\n",
    "    \"1003\":[92,91,None,80,None],\n",
    "}\n",
    "print(score)\n",
    "score.keys()\n",
    "score.get(\"1003\")\n",
    "del score['1001']\n",
    "print(score)"
   ]
  },
  {
   "cell_type": "code",
   "execution_count": 88,
   "id": "a996ad59-4678-4480-8c0c-6a1d76e4730b",
   "metadata": {},
   "outputs": [],
   "source": [
    "patient = {\n",
    "    'bmi' : 30,\n",
    "    'diagnosis' : ['Schizophrenia', 'Diabetes', 'Anxiety'],\n",
    "    'heart_rates' : [95, 123, 135, 91, 175, 2000]\n",
    "}"
   ]
  },
  {
   "cell_type": "code",
   "execution_count": 89,
   "id": "66648882-8c1d-48cf-84fc-05288938e469",
   "metadata": {},
   "outputs": [
    {
     "name": "stdout",
     "output_type": "stream",
     "text": [
      "{'bmi': 30, 'diagnosis': ['Schizophrenia', 'Diabetes', 'Anxiety'], 'heart_rates': [95, 123, 135, 91, 175, 2000], 'medication': ['Aripiprazole', 'Citalopram', 'Ibuprofen']}\n"
     ]
    }
   ],
   "source": [
    "patient['medication'] = ['Aripiprazole', 'Citalopram', 'Ibuprofen']\n",
    "print(patient)"
   ]
  },
  {
   "cell_type": "code",
   "execution_count": 90,
   "id": "61f64270-1788-4807-a62a-e137fce19ec5",
   "metadata": {},
   "outputs": [],
   "source": [
    "patient['heart_rates'].sort()"
   ]
  },
  {
   "cell_type": "code",
   "execution_count": 104,
   "id": "74a06ecd-57ce-4859-a4bd-e78c7382f17a",
   "metadata": {},
   "outputs": [
    {
     "name": "stdout",
     "output_type": "stream",
     "text": [
      "{'bmi': 30, 'diagnosis': ['Schizophrenia', 'Diabetes', 'Anxiety'], 'heart_rates': [91, 95, 123, 135, 175, 2000], 'medication': ['Aripiprazole', 'Citalopram', 'Ibuprofen']}\n"
     ]
    }
   ],
   "source": [
    "print(patient)"
   ]
  },
  {
   "cell_type": "code",
   "execution_count": 105,
   "id": "0a73e447-f19a-4d7b-8409-a15fc13e9932",
   "metadata": {},
   "outputs": [
    {
     "name": "stdout",
     "output_type": "stream",
     "text": [
      "{'bmi': 30, 'diagnosis': ['Schizophrenia', 'Diabetes', 'Anxiety'], 'heart_rates': [91, 95, 123, 135, 175, 2000], 'medication': ['Aripiprazole', 'Citalopram', 'Ibuprofen']}\n"
     ]
    }
   ],
   "source": [
    "print(patient)"
   ]
  },
  {
   "cell_type": "code",
   "execution_count": 111,
   "id": "2fa4b3ae-47ad-4bbc-9230-229dfe075c22",
   "metadata": {},
   "outputs": [],
   "source": [
    "while 2000 in patient['heart_rates']:\n",
    "  patient['heart_rates'].remove(2000)"
   ]
  },
  {
   "cell_type": "code",
   "execution_count": 112,
   "id": "baf40ce5-4c5d-4a7f-881e-0b53e81dba18",
   "metadata": {},
   "outputs": [
    {
     "name": "stdout",
     "output_type": "stream",
     "text": [
      "{'bmi': 30, 'diagnosis': ['Schizophrenia', 'Diabetes', 'Anxiety'], 'heart_rates': [91, 95, 123, 135, 175], 'medication': ['Aripiprazole', 'Citalopram', 'Ibuprofen']}\n"
     ]
    }
   ],
   "source": [
    "print(patient)"
   ]
  },
  {
   "cell_type": "code",
   "execution_count": 115,
   "id": "79e3cc93-8a3f-4aa8-bcf4-26fe7a5be254",
   "metadata": {},
   "outputs": [],
   "source": [
    "patient['bmi'] +=5"
   ]
  },
  {
   "cell_type": "code",
   "execution_count": 116,
   "id": "7c295ddc-d35b-458c-ad76-25bcba2a5dcb",
   "metadata": {},
   "outputs": [
    {
     "name": "stdout",
     "output_type": "stream",
     "text": [
      "{'bmi': 35, 'diagnosis': ['Schizophrenia', 'Diabetes', 'Anxiety'], 'heart_rates': [91, 95, 123, 135, 175], 'medication': ['Aripiprazole', 'Citalopram', 'Ibuprofen']}\n"
     ]
    }
   ],
   "source": [
    "print(patient)"
   ]
  },
  {
   "cell_type": "code",
   "execution_count": null,
   "id": "a560d9d2-de6d-4398-a74b-794f5fdf0f94",
   "metadata": {},
   "outputs": [],
   "source": [
    "#code for Heap exercice"
   ]
  },
  {
   "cell_type": "code",
   "execution_count": 117,
   "id": "4cfcb76b-7f3d-48c6-bdbb-53dfc2083874",
   "metadata": {},
   "outputs": [
    {
     "data": {
      "text/plain": [
       "[22, 37, 90, 49, 56, 65]"
      ]
     },
     "execution_count": 117,
     "metadata": {},
     "output_type": "execute_result"
    }
   ],
   "source": [
    "list = [22, 37, 90, 49, 56, 65]\n",
    "list"
   ]
  },
  {
   "cell_type": "code",
   "execution_count": 119,
   "id": "bda2d1f1-7bde-4076-bf06-22a9d6ea52ad",
   "metadata": {},
   "outputs": [
    {
     "data": {
      "text/plain": [
       "[22, 37, 65, 49, 56, 90]"
      ]
     },
     "execution_count": 119,
     "metadata": {},
     "output_type": "execute_result"
    }
   ],
   "source": [
    "import heapq\n",
    "heapq.heapify(list)\n",
    "list"
   ]
  },
  {
   "cell_type": "code",
   "execution_count": 121,
   "id": "0e8eca3e-f83a-4959-97f3-81a94fe31935",
   "metadata": {},
   "outputs": [
    {
     "name": "stdout",
     "output_type": "stream",
     "text": [
      "[12, 37, 22, 40, 56, 90, 65, 49, 99]\n"
     ]
    }
   ],
   "source": [
    "heapq.heappush(list,12)\n",
    "heapq.heappush(list,40)\n",
    "heapq.heappush(list,99)\n",
    "print(list)"
   ]
  },
  {
   "cell_type": "code",
   "execution_count": 130,
   "id": "12152bec-7292-47f8-b086-aee8fff9b08f",
   "metadata": {},
   "outputs": [
    {
     "ename": "IndexError",
     "evalue": "index out of range",
     "output_type": "error",
     "traceback": [
      "\u001b[0;31m---------------------------------------------------------------------------\u001b[0m",
      "\u001b[0;31mIndexError\u001b[0m                                Traceback (most recent call last)",
      "Cell \u001b[0;32mIn[130], line 1\u001b[0m\n\u001b[0;32m----> 1\u001b[0m \u001b[43mheapq\u001b[49m\u001b[38;5;241;43m.\u001b[39;49m\u001b[43mheappop\u001b[49m\u001b[43m(\u001b[49m\u001b[38;5;28;43mlist\u001b[39;49m\u001b[43m)\u001b[49m\n\u001b[1;32m      2\u001b[0m heapq\u001b[38;5;241m.\u001b[39mheappop(\u001b[38;5;28mlist\u001b[39m)\n\u001b[1;32m      3\u001b[0m heapq\u001b[38;5;241m.\u001b[39mheappop(\u001b[38;5;28mlist\u001b[39m)\n",
      "\u001b[0;31mIndexError\u001b[0m: index out of range"
     ]
    }
   ],
   "source": [
    "heapq.heappop(list)\n",
    "heapq.heappop(list)\n",
    "heapq.heappop(list)\n",
    "heapq.heappop(list)"
   ]
  },
  {
   "cell_type": "code",
   "execution_count": 131,
   "id": "2efbfcf1-9ac3-4e79-a430-5f2410f72969",
   "metadata": {},
   "outputs": [
    {
     "name": "stdout",
     "output_type": "stream",
     "text": [
      "[-12, -37, -22, -40, -56, -90, -65, -49, -99]\n"
     ]
    }
   ],
   "source": [
    "list = [12, 37, 22, 40, 56, 90, 65, 49, 99]\n",
    "neg = [-x for x in list]\n",
    "print(neg)"
   ]
  },
  {
   "cell_type": "code",
   "execution_count": 133,
   "id": "3be1b95e-9142-4fb5-a7fb-4b01dfb3f023",
   "metadata": {},
   "outputs": [
    {
     "data": {
      "text/plain": [
       "[-99, -56, -90, -49, -12, -22, -65, -37, -40]"
      ]
     },
     "execution_count": 133,
     "metadata": {},
     "output_type": "execute_result"
    }
   ],
   "source": [
    "heapq.heapify(neg)\n",
    "neg"
   ]
  },
  {
   "cell_type": "code",
   "execution_count": 134,
   "id": "a264f408-5320-4d9f-8fb8-988a750eed27",
   "metadata": {},
   "outputs": [
    {
     "data": {
      "text/plain": [
       "[99, 56, 90, 49, 12, 22, 65, 37, 40]"
      ]
     },
     "execution_count": 134,
     "metadata": {},
     "output_type": "execute_result"
    }
   ],
   "source": [
    "list = [-x for x in neg]\n",
    "list"
   ]
  },
  {
   "cell_type": "code",
   "execution_count": 135,
   "id": "978430e0-a58d-4542-bd13-33133927cba0",
   "metadata": {},
   "outputs": [],
   "source": [
    "\n",
    "\n",
    "#code for Numpy area"
   ]
  },
  {
   "cell_type": "code",
   "execution_count": 137,
   "id": "6c69fc07-22f4-4e54-baa6-67c6bb8ae86c",
   "metadata": {},
   "outputs": [
    {
     "name": "stdout",
     "output_type": "stream",
     "text": [
      "Collecting numpy\n",
      "  Downloading numpy-2.1.1-cp310-cp310-macosx_14_0_arm64.whl.metadata (60 kB)\n",
      "\u001b[2K     \u001b[90m━━━━━━━━━━━━━━━━━━━━━━━━━━━━━━━━━━━━━━━━\u001b[0m \u001b[32m60.9/60.9 kB\u001b[0m \u001b[31m3.8 MB/s\u001b[0m eta \u001b[36m0:00:00\u001b[0m\n",
      "\u001b[?25hDownloading numpy-2.1.1-cp310-cp310-macosx_14_0_arm64.whl (5.4 MB)\n",
      "\u001b[2K   \u001b[90m━━━━━━━━━━━━━━━━━━━━━━━━━━━━━━━━━━━━━━━━\u001b[0m \u001b[32m5.4/5.4 MB\u001b[0m \u001b[31m14.2 MB/s\u001b[0m eta \u001b[36m0:00:00\u001b[0ma \u001b[36m0:00:01\u001b[0m\n",
      "\u001b[?25hInstalling collected packages: numpy\n",
      "Successfully installed numpy-2.1.1\n",
      "Note: you may need to restart the kernel to use updated packages.\n"
     ]
    }
   ],
   "source": [
    "pip install numpy\n"
   ]
  },
  {
   "cell_type": "code",
   "execution_count": 139,
   "id": "689544d5-7e2e-44de-9ecd-e149a2d9cadb",
   "metadata": {},
   "outputs": [
    {
     "name": "stdout",
     "output_type": "stream",
     "text": [
      "[[  1   2   3]\n",
      " [ 10  20  30]\n",
      " [100 200 300]]\n"
     ]
    }
   ],
   "source": [
    "import numpy as np\n",
    "list = [[1,2,3],[10,20,30],[100,200,300]]\n",
    "twoDArr = np.array(list)\n",
    "print(twoDArr)"
   ]
  },
  {
   "cell_type": "code",
   "execution_count": 140,
   "id": "71cd0763-ecc2-4680-b59c-f87cbd05353a",
   "metadata": {},
   "outputs": [
    {
     "data": {
      "text/plain": [
       "2"
      ]
     },
     "execution_count": 140,
     "metadata": {},
     "output_type": "execute_result"
    }
   ],
   "source": [
    "twoDArr.ndim"
   ]
  },
  {
   "cell_type": "code",
   "execution_count": 141,
   "id": "44e27aef-76b4-4002-a8cb-c6a166f53e12",
   "metadata": {},
   "outputs": [
    {
     "data": {
      "text/plain": [
       "(3, 3)"
      ]
     },
     "execution_count": 141,
     "metadata": {},
     "output_type": "execute_result"
    }
   ],
   "source": [
    "twoDArr.shape"
   ]
  },
  {
   "cell_type": "code",
   "execution_count": 142,
   "id": "6756b3c2-12b2-4ceb-8317-6b7fdc28aed4",
   "metadata": {},
   "outputs": [
    {
     "data": {
      "text/plain": [
       "9"
      ]
     },
     "execution_count": 142,
     "metadata": {},
     "output_type": "execute_result"
    }
   ],
   "source": [
    "twoDArr.size"
   ]
  },
  {
   "cell_type": "code",
   "execution_count": 143,
   "id": "9eb2f016-d8ce-44ab-a37d-7612c81f1f90",
   "metadata": {},
   "outputs": [
    {
     "data": {
      "text/plain": [
       "dtype('int64')"
      ]
     },
     "execution_count": 143,
     "metadata": {},
     "output_type": "execute_result"
    }
   ],
   "source": [
    "twoDArr.dtype"
   ]
  },
  {
   "cell_type": "code",
   "execution_count": 144,
   "id": "560eef90-cbd6-478d-afd7-792f37ba64e7",
   "metadata": {},
   "outputs": [
    {
     "data": {
      "text/plain": [
       "<memory at 0x108a18860>"
      ]
     },
     "execution_count": 144,
     "metadata": {},
     "output_type": "execute_result"
    }
   ],
   "source": [
    "twoDArr.data"
   ]
  },
  {
   "cell_type": "code",
   "execution_count": null,
   "id": "7b90e448-dd15-42d2-a015-2a9ab25d7d9f",
   "metadata": {},
   "outputs": [],
   "source": []
  }
 ],
 "metadata": {
  "kernelspec": {
   "display_name": "Python 3 (ipykernel)",
   "language": "python",
   "name": "python3"
  },
  "language_info": {
   "codemirror_mode": {
    "name": "ipython",
    "version": 3
   },
   "file_extension": ".py",
   "mimetype": "text/x-python",
   "name": "python",
   "nbconvert_exporter": "python",
   "pygments_lexer": "ipython3",
   "version": "3.10.14"
  }
 },
 "nbformat": 4,
 "nbformat_minor": 5
}
